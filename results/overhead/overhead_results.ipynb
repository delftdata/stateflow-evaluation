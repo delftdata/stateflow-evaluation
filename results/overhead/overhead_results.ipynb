{
 "cells": [
  {
   "cell_type": "code",
   "execution_count": 10,
   "metadata": {
    "pycharm": {
     "name": "#%%\n"
    }
   },
   "outputs": [],
   "source": [
    "import pandas as pd\n",
    "from matplotlib import rcParams, rc\n",
    "import matplotlib\n",
    "import matplotlib.font_manager as font_manager\n",
    "import matplotlib.ticker as mticker\n",
    "\n",
    "# Add every font at the specified location\n",
    "font_dir = ['.']\n",
    "for font in font_manager.findSystemFonts(font_dir):\n",
    "    font_manager.fontManager.addfont(font)\n",
    "    \n",
    "rcParams['font.family'] = 'Verdana'\n",
    "rcParams['figure.figsize'] = [11, 7]\n",
    "rcParams['figure.dpi'] = 400 # 200 e.g. is really fine, but slower\n",
    "import matplotlib.pyplot as plt"
   ]
  },
  {
   "cell_type": "code",
   "execution_count": 2,
   "metadata": {},
   "outputs": [
    {
     "data": {
      "text/html": [
       "<div>\n",
       "<style scoped>\n",
       "    .dataframe tbody tr th:only-of-type {\n",
       "        vertical-align: middle;\n",
       "    }\n",
       "\n",
       "    .dataframe tbody tr th {\n",
       "        vertical-align: top;\n",
       "    }\n",
       "\n",
       "    .dataframe thead th {\n",
       "        text-align: right;\n",
       "    }\n",
       "</style>\n",
       "<table border=\"1\" class=\"dataframe\">\n",
       "  <thead>\n",
       "    <tr style=\"text-align: right;\">\n",
       "      <th></th>\n",
       "      <th>Unnamed: 0</th>\n",
       "      <th>REPETITION</th>\n",
       "      <th>STATE_SERIALIZATION_DURATION</th>\n",
       "      <th>EVENT_SERIALIZATION_DURATION</th>\n",
       "      <th>ROUTING_DURATION</th>\n",
       "      <th>ACTOR_CONSTRUCTION</th>\n",
       "    </tr>\n",
       "  </thead>\n",
       "  <tbody>\n",
       "    <tr>\n",
       "      <th>count</th>\n",
       "      <td>10000.00000</td>\n",
       "      <td>10000.00000</td>\n",
       "      <td>10000.000000</td>\n",
       "      <td>10000.000000</td>\n",
       "      <td>10000.000000</td>\n",
       "      <td>10000.000000</td>\n",
       "    </tr>\n",
       "    <tr>\n",
       "      <th>mean</th>\n",
       "      <td>4999.50000</td>\n",
       "      <td>4999.50000</td>\n",
       "      <td>0.029880</td>\n",
       "      <td>0.047178</td>\n",
       "      <td>0.010128</td>\n",
       "      <td>0.007668</td>\n",
       "    </tr>\n",
       "    <tr>\n",
       "      <th>std</th>\n",
       "      <td>2886.89568</td>\n",
       "      <td>2886.89568</td>\n",
       "      <td>0.006816</td>\n",
       "      <td>0.009331</td>\n",
       "      <td>0.002873</td>\n",
       "      <td>0.002398</td>\n",
       "    </tr>\n",
       "    <tr>\n",
       "      <th>min</th>\n",
       "      <td>0.00000</td>\n",
       "      <td>0.00000</td>\n",
       "      <td>0.022113</td>\n",
       "      <td>0.036609</td>\n",
       "      <td>0.007006</td>\n",
       "      <td>0.005328</td>\n",
       "    </tr>\n",
       "    <tr>\n",
       "      <th>25%</th>\n",
       "      <td>2499.75000</td>\n",
       "      <td>2499.75000</td>\n",
       "      <td>0.025163</td>\n",
       "      <td>0.041033</td>\n",
       "      <td>0.008502</td>\n",
       "      <td>0.006493</td>\n",
       "    </tr>\n",
       "    <tr>\n",
       "      <th>50%</th>\n",
       "      <td>4999.50000</td>\n",
       "      <td>4999.50000</td>\n",
       "      <td>0.028778</td>\n",
       "      <td>0.045415</td>\n",
       "      <td>0.009766</td>\n",
       "      <td>0.007322</td>\n",
       "    </tr>\n",
       "    <tr>\n",
       "      <th>75%</th>\n",
       "      <td>7499.25000</td>\n",
       "      <td>7499.25000</td>\n",
       "      <td>0.031848</td>\n",
       "      <td>0.049398</td>\n",
       "      <td>0.010785</td>\n",
       "      <td>0.008075</td>\n",
       "    </tr>\n",
       "    <tr>\n",
       "      <th>max</th>\n",
       "      <td>9999.00000</td>\n",
       "      <td>9999.00000</td>\n",
       "      <td>0.085626</td>\n",
       "      <td>0.149661</td>\n",
       "      <td>0.065313</td>\n",
       "      <td>0.037976</td>\n",
       "    </tr>\n",
       "  </tbody>\n",
       "</table>\n",
       "</div>"
      ],
      "text/plain": [
       "        Unnamed: 0   REPETITION  STATE_SERIALIZATION_DURATION  \\\n",
       "count  10000.00000  10000.00000                  10000.000000   \n",
       "mean    4999.50000   4999.50000                      0.029880   \n",
       "std     2886.89568   2886.89568                      0.006816   \n",
       "min        0.00000      0.00000                      0.022113   \n",
       "25%     2499.75000   2499.75000                      0.025163   \n",
       "50%     4999.50000   4999.50000                      0.028778   \n",
       "75%     7499.25000   7499.25000                      0.031848   \n",
       "max     9999.00000   9999.00000                      0.085626   \n",
       "\n",
       "       EVENT_SERIALIZATION_DURATION  ROUTING_DURATION  ACTOR_CONSTRUCTION  \n",
       "count                  10000.000000      10000.000000        10000.000000  \n",
       "mean                       0.047178          0.010128            0.007668  \n",
       "std                        0.009331          0.002873            0.002398  \n",
       "min                        0.036609          0.007006            0.005328  \n",
       "25%                        0.041033          0.008502            0.006493  \n",
       "50%                        0.045415          0.009766            0.007322  \n",
       "75%                        0.049398          0.010785            0.008075  \n",
       "max                        0.149661          0.065313            0.037976  "
      ]
     },
     "execution_count": 2,
     "metadata": {},
     "output_type": "execute_result"
    }
   ],
   "source": [
    "fiftykb_data = pd.read_csv(\"50KB_one_invocation.csv\")\n",
    "fiftykb_data.describe()"
   ]
  },
  {
   "cell_type": "code",
   "execution_count": 3,
   "metadata": {},
   "outputs": [
    {
     "data": {
      "text/html": [
       "<div>\n",
       "<style scoped>\n",
       "    .dataframe tbody tr th:only-of-type {\n",
       "        vertical-align: middle;\n",
       "    }\n",
       "\n",
       "    .dataframe tbody tr th {\n",
       "        vertical-align: top;\n",
       "    }\n",
       "\n",
       "    .dataframe thead th {\n",
       "        text-align: right;\n",
       "    }\n",
       "</style>\n",
       "<table border=\"1\" class=\"dataframe\">\n",
       "  <thead>\n",
       "    <tr style=\"text-align: right;\">\n",
       "      <th></th>\n",
       "      <th>Unnamed: 0</th>\n",
       "      <th>REPETITION</th>\n",
       "      <th>STATE_SERIALIZATION_DURATION</th>\n",
       "      <th>EVENT_SERIALIZATION_DURATION</th>\n",
       "      <th>ROUTING_DURATION</th>\n",
       "      <th>ACTOR_CONSTRUCTION</th>\n",
       "    </tr>\n",
       "  </thead>\n",
       "  <tbody>\n",
       "    <tr>\n",
       "      <th>count</th>\n",
       "      <td>10000.00000</td>\n",
       "      <td>10000.00000</td>\n",
       "      <td>10000.000000</td>\n",
       "      <td>10000.000000</td>\n",
       "      <td>10000.000000</td>\n",
       "      <td>10000.000000</td>\n",
       "    </tr>\n",
       "    <tr>\n",
       "      <th>mean</th>\n",
       "      <td>4999.50000</td>\n",
       "      <td>4999.50000</td>\n",
       "      <td>0.141793</td>\n",
       "      <td>0.049730</td>\n",
       "      <td>0.011389</td>\n",
       "      <td>0.009092</td>\n",
       "    </tr>\n",
       "    <tr>\n",
       "      <th>std</th>\n",
       "      <td>2886.89568</td>\n",
       "      <td>2886.89568</td>\n",
       "      <td>0.026287</td>\n",
       "      <td>0.010019</td>\n",
       "      <td>0.003352</td>\n",
       "      <td>0.002622</td>\n",
       "    </tr>\n",
       "    <tr>\n",
       "      <th>min</th>\n",
       "      <td>0.00000</td>\n",
       "      <td>0.00000</td>\n",
       "      <td>0.105155</td>\n",
       "      <td>0.038257</td>\n",
       "      <td>0.007875</td>\n",
       "      <td>0.006428</td>\n",
       "    </tr>\n",
       "    <tr>\n",
       "      <th>25%</th>\n",
       "      <td>2499.75000</td>\n",
       "      <td>2499.75000</td>\n",
       "      <td>0.125981</td>\n",
       "      <td>0.043752</td>\n",
       "      <td>0.009780</td>\n",
       "      <td>0.008028</td>\n",
       "    </tr>\n",
       "    <tr>\n",
       "      <th>50%</th>\n",
       "      <td>4999.50000</td>\n",
       "      <td>4999.50000</td>\n",
       "      <td>0.133887</td>\n",
       "      <td>0.046793</td>\n",
       "      <td>0.010623</td>\n",
       "      <td>0.008656</td>\n",
       "    </tr>\n",
       "    <tr>\n",
       "      <th>75%</th>\n",
       "      <td>7499.25000</td>\n",
       "      <td>7499.25000</td>\n",
       "      <td>0.147651</td>\n",
       "      <td>0.051202</td>\n",
       "      <td>0.011654</td>\n",
       "      <td>0.009276</td>\n",
       "    </tr>\n",
       "    <tr>\n",
       "      <th>max</th>\n",
       "      <td>9999.00000</td>\n",
       "      <td>9999.00000</td>\n",
       "      <td>0.444248</td>\n",
       "      <td>0.129521</td>\n",
       "      <td>0.046447</td>\n",
       "      <td>0.043862</td>\n",
       "    </tr>\n",
       "  </tbody>\n",
       "</table>\n",
       "</div>"
      ],
      "text/plain": [
       "        Unnamed: 0   REPETITION  STATE_SERIALIZATION_DURATION  \\\n",
       "count  10000.00000  10000.00000                  10000.000000   \n",
       "mean    4999.50000   4999.50000                      0.141793   \n",
       "std     2886.89568   2886.89568                      0.026287   \n",
       "min        0.00000      0.00000                      0.105155   \n",
       "25%     2499.75000   2499.75000                      0.125981   \n",
       "50%     4999.50000   4999.50000                      0.133887   \n",
       "75%     7499.25000   7499.25000                      0.147651   \n",
       "max     9999.00000   9999.00000                      0.444248   \n",
       "\n",
       "       EVENT_SERIALIZATION_DURATION  ROUTING_DURATION  ACTOR_CONSTRUCTION  \n",
       "count                  10000.000000      10000.000000        10000.000000  \n",
       "mean                       0.049730          0.011389            0.009092  \n",
       "std                        0.010019          0.003352            0.002622  \n",
       "min                        0.038257          0.007875            0.006428  \n",
       "25%                        0.043752          0.009780            0.008028  \n",
       "50%                        0.046793          0.010623            0.008656  \n",
       "75%                        0.051202          0.011654            0.009276  \n",
       "max                        0.129521          0.046447            0.043862  "
      ]
     },
     "execution_count": 3,
     "metadata": {},
     "output_type": "execute_result"
    }
   ],
   "source": [
    "fivehundredkb_data = pd.read_csv(\"500KB_one_invocation.csv\")\n",
    "fivehundredkb_data.describe()"
   ]
  },
  {
   "cell_type": "code",
   "execution_count": 4,
   "metadata": {},
   "outputs": [
    {
     "data": {
      "text/html": [
       "<div>\n",
       "<style scoped>\n",
       "    .dataframe tbody tr th:only-of-type {\n",
       "        vertical-align: middle;\n",
       "    }\n",
       "\n",
       "    .dataframe tbody tr th {\n",
       "        vertical-align: top;\n",
       "    }\n",
       "\n",
       "    .dataframe thead th {\n",
       "        text-align: right;\n",
       "    }\n",
       "</style>\n",
       "<table border=\"1\" class=\"dataframe\">\n",
       "  <thead>\n",
       "    <tr style=\"text-align: right;\">\n",
       "      <th></th>\n",
       "      <th>Unnamed: 0</th>\n",
       "      <th>REPETITION</th>\n",
       "      <th>STATE_SERIALIZATION_DURATION</th>\n",
       "      <th>EVENT_SERIALIZATION_DURATION</th>\n",
       "      <th>ROUTING_DURATION</th>\n",
       "      <th>ACTOR_CONSTRUCTION</th>\n",
       "    </tr>\n",
       "  </thead>\n",
       "  <tbody>\n",
       "    <tr>\n",
       "      <th>count</th>\n",
       "      <td>10000.00000</td>\n",
       "      <td>10000.00000</td>\n",
       "      <td>10000.000000</td>\n",
       "      <td>10000.000000</td>\n",
       "      <td>10000.000000</td>\n",
       "      <td>10000.000000</td>\n",
       "    </tr>\n",
       "    <tr>\n",
       "      <th>mean</th>\n",
       "      <td>4999.50000</td>\n",
       "      <td>4999.50000</td>\n",
       "      <td>6.515933</td>\n",
       "      <td>0.064543</td>\n",
       "      <td>0.016222</td>\n",
       "      <td>0.011418</td>\n",
       "    </tr>\n",
       "    <tr>\n",
       "      <th>std</th>\n",
       "      <td>2886.89568</td>\n",
       "      <td>2886.89568</td>\n",
       "      <td>1.684562</td>\n",
       "      <td>0.018676</td>\n",
       "      <td>0.009650</td>\n",
       "      <td>0.005464</td>\n",
       "    </tr>\n",
       "    <tr>\n",
       "      <th>min</th>\n",
       "      <td>0.00000</td>\n",
       "      <td>0.00000</td>\n",
       "      <td>3.204221</td>\n",
       "      <td>0.042845</td>\n",
       "      <td>0.009742</td>\n",
       "      <td>0.008033</td>\n",
       "    </tr>\n",
       "    <tr>\n",
       "      <th>25%</th>\n",
       "      <td>2499.75000</td>\n",
       "      <td>2499.75000</td>\n",
       "      <td>6.694643</td>\n",
       "      <td>0.053866</td>\n",
       "      <td>0.012714</td>\n",
       "      <td>0.009971</td>\n",
       "    </tr>\n",
       "    <tr>\n",
       "      <th>50%</th>\n",
       "      <td>4999.50000</td>\n",
       "      <td>4999.50000</td>\n",
       "      <td>6.973030</td>\n",
       "      <td>0.059037</td>\n",
       "      <td>0.014667</td>\n",
       "      <td>0.010543</td>\n",
       "    </tr>\n",
       "    <tr>\n",
       "      <th>75%</th>\n",
       "      <td>7499.25000</td>\n",
       "      <td>7499.25000</td>\n",
       "      <td>7.425553</td>\n",
       "      <td>0.071612</td>\n",
       "      <td>0.017903</td>\n",
       "      <td>0.011331</td>\n",
       "    </tr>\n",
       "    <tr>\n",
       "      <th>max</th>\n",
       "      <td>9999.00000</td>\n",
       "      <td>9999.00000</td>\n",
       "      <td>28.340192</td>\n",
       "      <td>0.468395</td>\n",
       "      <td>0.597145</td>\n",
       "      <td>0.245794</td>\n",
       "    </tr>\n",
       "  </tbody>\n",
       "</table>\n",
       "</div>"
      ],
      "text/plain": [
       "        Unnamed: 0   REPETITION  STATE_SERIALIZATION_DURATION  \\\n",
       "count  10000.00000  10000.00000                  10000.000000   \n",
       "mean    4999.50000   4999.50000                      6.515933   \n",
       "std     2886.89568   2886.89568                      1.684562   \n",
       "min        0.00000      0.00000                      3.204221   \n",
       "25%     2499.75000   2499.75000                      6.694643   \n",
       "50%     4999.50000   4999.50000                      6.973030   \n",
       "75%     7499.25000   7499.25000                      7.425553   \n",
       "max     9999.00000   9999.00000                     28.340192   \n",
       "\n",
       "       EVENT_SERIALIZATION_DURATION  ROUTING_DURATION  ACTOR_CONSTRUCTION  \n",
       "count                  10000.000000      10000.000000        10000.000000  \n",
       "mean                       0.064543          0.016222            0.011418  \n",
       "std                        0.018676          0.009650            0.005464  \n",
       "min                        0.042845          0.009742            0.008033  \n",
       "25%                        0.053866          0.012714            0.009971  \n",
       "50%                        0.059037          0.014667            0.010543  \n",
       "75%                        0.071612          0.017903            0.011331  \n",
       "max                        0.468395          0.597145            0.245794  "
      ]
     },
     "execution_count": 4,
     "metadata": {},
     "output_type": "execute_result"
    }
   ],
   "source": [
    "fivemb_data = pd.read_csv(\"5MB_one_invocation.csv\")\n",
    "fivemb_data.describe()"
   ]
  },
  {
   "cell_type": "code",
   "execution_count": 5,
   "metadata": {
    "scrolled": true
   },
   "outputs": [
    {
     "data": {
      "text/plain": [
       "Unnamed: 0                      2886.895680\n",
       "REPETITION                      2886.895680\n",
       "STATE_SERIALIZATION_DURATION      10.169043\n",
       "EVENT_SERIALIZATION_DURATION       0.010953\n",
       "ROUTING_DURATION                   0.005076\n",
       "ACTOR_CONSTRUCTION                 0.002741\n",
       "dtype: float64"
      ]
     },
     "execution_count": 5,
     "metadata": {},
     "output_type": "execute_result"
    }
   ],
   "source": [
    "fiftymb_data = pd.read_csv(\"50MB_one_invocation.csv\")\n",
    "fiftymb_data.describe()\n",
    "\n",
    "fiftymb_data.std()"
   ]
  },
  {
   "cell_type": "code",
   "execution_count": 6,
   "metadata": {},
   "outputs": [
    {
     "name": "stdout",
     "output_type": "stream",
     "text": [
      "                                  50KB     500KB       5MB       50MB\n",
      "ACTOR_CONSTRUCTION            0.007668  0.009092  0.011418   0.010396\n",
      "ROUTING_DURATION              0.010128  0.011389  0.016222   0.018386\n",
      "EVENT_SERIALIZATION_DURATION  0.047178  0.049730  0.064543   0.062814\n",
      "STATE_SERIALIZATION_DURATION  0.029880  0.141793  6.515933  90.039465\n",
      "                                  50KB     500KB       5MB       50MB\n",
      "ACTOR_CONSTRUCTION            0.002398  0.002622  0.005464   0.002741\n",
      "ROUTING_DURATION              0.002873  0.003352  0.009650   0.005076\n",
      "EVENT_SERIALIZATION_DURATION  0.009331  0.010019  0.018676   0.010953\n",
      "STATE_SERIALIZATION_DURATION  0.006816  0.026287  1.684562  10.169043\n"
     ]
    }
   ],
   "source": [
    "fiftykb_mean = fiftykb_data[[\"ACTOR_CONSTRUCTION\", \"ROUTING_DURATION\", \"EVENT_SERIALIZATION_DURATION\", \"STATE_SERIALIZATION_DURATION\"]].mean().to_frame(name=\"50KB\")\n",
    "fivehundredkb_mean = fivehundredkb_data[[\"ACTOR_CONSTRUCTION\", \"ROUTING_DURATION\", \"EVENT_SERIALIZATION_DURATION\", \"STATE_SERIALIZATION_DURATION\"]].mean().to_frame(name=\"500KB\")\n",
    "fivemb_mean = fivemb_data[[\"ACTOR_CONSTRUCTION\", \"ROUTING_DURATION\", \"EVENT_SERIALIZATION_DURATION\", \"STATE_SERIALIZATION_DURATION\"]].mean().to_frame(name=\"5MB\")\n",
    "fiftymb_mean = fiftymb_data[[\"ACTOR_CONSTRUCTION\", \"ROUTING_DURATION\", \"EVENT_SERIALIZATION_DURATION\", \"STATE_SERIALIZATION_DURATION\"]].mean().to_frame(name=\"50MB\")\n",
    "\n",
    "\n",
    "fiftykb_std = fiftykb_data[[\"ACTOR_CONSTRUCTION\", \"ROUTING_DURATION\", \"EVENT_SERIALIZATION_DURATION\", \"STATE_SERIALIZATION_DURATION\"]].std().to_frame(name=\"50KB\")\n",
    "fivehundredkb_std = fivehundredkb_data[[\"ACTOR_CONSTRUCTION\", \"ROUTING_DURATION\", \"EVENT_SERIALIZATION_DURATION\", \"STATE_SERIALIZATION_DURATION\"]].std().to_frame(name=\"500KB\")\n",
    "fivemb_std = fivemb_data[[\"ACTOR_CONSTRUCTION\", \"ROUTING_DURATION\", \"EVENT_SERIALIZATION_DURATION\", \"STATE_SERIALIZATION_DURATION\"]].std().to_frame(name=\"5MB\")\n",
    "fiftymb_std = fiftymb_data[[\"ACTOR_CONSTRUCTION\", \"ROUTING_DURATION\", \"EVENT_SERIALIZATION_DURATION\", \"STATE_SERIALIZATION_DURATION\"]].std().to_frame(name=\"50MB\")\n",
    "\n",
    "\n",
    "overhead_mean = pd.concat([fiftykb_mean, fivehundredkb_mean, fivemb_mean, fiftymb_mean], axis=1)\n",
    "overhead_std = pd.concat([fiftykb_std, fivehundredkb_std, fivemb_std, fiftymb_std], axis=1)\n",
    "print(overhead_mean)\n",
    "print(overhead_std)"
   ]
  },
  {
   "cell_type": "code",
   "execution_count": 7,
   "metadata": {
    "pycharm": {
     "name": "#%%\n"
    }
   },
   "outputs": [
    {
     "data": {
      "image/png": "[encoded data removed]",
      "text/plain": [
       "<Figure size 432x288 with 1 Axes>"
      ]
     },
     "metadata": {
      "needs_background": "light"
     },
     "output_type": "display_data"
    }
   ],
   "source": [
    "ax = overhead_mean.plot(kind=\"bar\", color=[\"#ef476f\", \"#ffd166\", \"#06d6a0\", \"#118ab2\", \"#073b4c\"], yerr=overhead_std, rot=0, fontsize=12, capsize=4, ecolor='black', error_kw={\"alpha\": 0.80})\n",
    "ax.set_axisbelow(True)\n",
    "plt.grid(axis=\"y\", linestyle=\"--\")\n",
    "ax.set_yscale('log')\n",
    "ax.set_ylabel(\"Duration (in ms)\", fontsize=14)\n",
    "ax.set_xlabel(r\"$Stateflow$ \" + \"action\", fontsize=14)\n",
    "ax.set_xticklabels([\"Actor\\nconstruction\", \"Routing\", \"Event\\nserialization\", \"State\\nserialization\"])\n",
    "ax.set_title(r\"Duration of actions in $Stateflow$ with varying state size. \")\n",
    "ax.yaxis.set_major_formatter(matplotlib.ticker.FormatStrFormatter('%.2f'))\n",
    "plt.show()"
   ]
  },
  {
   "cell_type": "code",
   "execution_count": 8,
   "metadata": {},
   "outputs": [
    {
     "data": {
      "image/png": "[encoded data removed]",
      "text/plain": [
       "<Figure size 432x288 with 1 Axes>"
      ]
     },
     "metadata": {
      "needs_background": "light"
     },
     "output_type": "display_data"
    }
   ],
   "source": [
    "new_overhead = overhead_mean.rename({\"ACTOR_CONSTRUCTION\": \"Actor construction\", \"ROUTING_DURATION\": \"Routing\", \"EVENT_SERIALIZATION_DURATION\": \"Event serialization\", \"STATE_SERIALIZATION_DURATION\": \"State serialization\"}).transpose()\n",
    "new_std = overhead_std.rename({\"ACTOR_CONSTRUCTION\": \"Actor construction\", \"ROUTING_DURATION\": \"Routing\", \"EVENT_SERIALIZATION_DURATION\": \"Event serialization\", \"STATE_SERIALIZATION_DURATION\": \"State serialization\"}).transpose()\n",
    "\n",
    "ax = new_overhead.plot(kind=\"bar\", color=[\"#ef476f\", \"#ffd166\", \"#06d6a0\", \"#118ab2\", \"#073b4c\"], yerr=new_std, rot=0, fontsize=12, capsize=4, ecolor='black', error_kw={\"alpha\": 0.80})\n",
    "ax.set_axisbelow(True)\n",
    "plt.grid(axis=\"y\", linestyle=\"--\")\n",
    "ax.set_yscale('log')\n",
    "ax.set_ylabel(\"Duration (in ms)\", fontsize=14)\n",
    "ax.set_xlabel(r\"$Stateflow$ \" + \"action\", fontsize=14)\n",
    "ax.set_title(r\"Duration of actions in $Stateflow$ with varying state size. \")\n",
    "ax.yaxis.set_major_formatter(matplotlib.ticker.FormatStrFormatter('%.2f'))\n",
    "\n",
    "plt.show()"
   ]
  },
  {
   "cell_type": "code",
   "execution_count": 9,
   "metadata": {
    "scrolled": true
   },
   "outputs": [
    {
     "data": {
      "image/png": "[encoded data removed]",
      "text/plain": [
       "<Figure size 432x288 with 1 Axes>"
      ]
     },
     "metadata": {
      "needs_background": "light"
     },
     "output_type": "display_data"
    }
   ],
   "source": [
    "actor = overhead_mean.loc[\"ACTOR_CONSTRUCTION\"]\n",
    "route = overhead_mean.loc[\"ROUTING_DURATION\"]\n",
    "event = overhead_mean.loc[\"EVENT_SERIALIZATION_DURATION\"]\n",
    "state = overhead_mean.loc[\"STATE_SERIALIZATION_DURATION\"]\n",
    "\n",
    "actor_std = overhead_std.loc[\"ACTOR_CONSTRUCTION\"]\n",
    "route_std = overhead_std.loc[\"ROUTING_DURATION\"]\n",
    "event_std = overhead_std.loc[\"EVENT_SERIALIZATION_DURATION\"]\n",
    "state_std = overhead_std.loc[\"STATE_SERIALIZATION_DURATION\"]\n",
    "\n",
    "x = [50, 500, 5000, 50000]\n",
    "plt.fill_between(x, actor-actor_std, actor+actor_std, color=\"gray\", alpha=0.1)\n",
    "plt.fill_between(x, route-route_std, route+route_std, color=\"gray\", alpha=0.1)\n",
    "plt.fill_between(x, event-event_std, event+event_std, color=\"gray\", alpha=0.1)\n",
    "plt.fill_between(x, state-state_std, state+state_std, color=\"gray\", alpha=0.1)\n",
    "\n",
    "plt.errorbar(x, actor, yerr=actor_std, color=\"#ef476f\", label=\"Actor construction\", linewidth=2, marker='o')\n",
    "plt.errorbar(x, route, yerr=route_std, color=\"#ffd166\", label=\"Routing\", linewidth=2, marker='o')\n",
    "plt.errorbar(x, event, yerr=event_std, color=\"#06d6a0\", label=\"Event serialization\", linewidth=2, marker='o')\n",
    "plt.errorbar(x, state, yerr=state_std, color=\"#118ab2\", label=\"State serialization\", linewidth=2, marker='o')\n",
    "ax = plt.gca()\n",
    "\n",
    "plt.yscale('log')\n",
    "plt.xscale('log')\n",
    "plt.xticks(x, [\"50KB\", \"500KB\", \"5MB\", \"50MB\"])\n",
    "plt.ylabel(\"Duration (in ms)\",fontsize=14)\n",
    "plt.xlabel(\"State size\", fontsize=14)\n",
    "ax.yaxis.set_major_formatter(matplotlib.ticker.FormatStrFormatter('%.2f'))\n",
    "\n",
    "plt.legend()\n",
    "plt.title(r\"The increase in duration of $Stateflow$ actions for different state sizes.\")\n",
    "plt.show()\n"
   ]
  },
  {
   "cell_type": "code",
   "execution_count": null,
   "metadata": {},
   "outputs": [],
   "source": []
  }
 ],
 "metadata": {
  "kernelspec": {
   "display_name": "Python 3 (ipykernel)",
   "language": "python",
   "name": "python3"
  },
  "language_info": {
   "codemirror_mode": {
    "name": "ipython",
    "version": 3
   },
   "file_extension": ".py",
   "mimetype": "text/x-python",
   "name": "python",
   "nbconvert_exporter": "python",
   "pygments_lexer": "ipython3",
   "version": "3.8.10"
  },
  "pycharm": {
   "stem_cell": {
    "cell_type": "raw",
    "metadata": {
     "collapsed": false
    },
    "source": [
     "# Overhead experiments"
    ]
   }
  }
 },
 "nbformat": 4,
 "nbformat_minor": 1
}
